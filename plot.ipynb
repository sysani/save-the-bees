{
 "cells": [
  {
   "cell_type": "markdown",
   "metadata": {},
   "source": [
    "# save the bees dataset \n",
    "Using the dataset, I've plotted the data points along with calculated trendlines in order to estimate the possible number of bee colony numbers in the USA in future years."
   ]
  },
  {
   "cell_type": "code",
   "execution_count": 1,
   "metadata": {},
   "outputs": [],
   "source": [
    "import pandas as pd\n",
    "import numpy as np\n",
    "from bokeh.plotting import figure \n",
    "from bokeh.io import output_file, show\n",
    "from bokeh.models import HoverTool, ColumnDataSource"
   ]
  },
  {
   "cell_type": "code",
   "execution_count": 2,
   "metadata": {},
   "outputs": [],
   "source": [
    "df=pd.read_csv(\"bee_colony_survey_data_by_state.csv\")"
   ]
  },
  {
   "cell_type": "code",
   "execution_count": 3,
   "metadata": {},
   "outputs": [
    {
     "data": {
      "text/html": [
       "<div>\n",
       "<style scoped>\n",
       "    .dataframe tbody tr th:only-of-type {\n",
       "        vertical-align: middle;\n",
       "    }\n",
       "\n",
       "    .dataframe tbody tr th {\n",
       "        vertical-align: top;\n",
       "    }\n",
       "\n",
       "    .dataframe thead th {\n",
       "        text-align: right;\n",
       "    }\n",
       "</style>\n",
       "<table border=\"1\" class=\"dataframe\">\n",
       "  <thead>\n",
       "    <tr style=\"text-align: right;\">\n",
       "      <th></th>\n",
       "      <th>year</th>\n",
       "      <th>period</th>\n",
       "      <th>week_ending</th>\n",
       "      <th>state</th>\n",
       "      <th>state_ansi</th>\n",
       "      <th>watershed</th>\n",
       "      <th>data_item</th>\n",
       "      <th>value</th>\n",
       "      <th>cv</th>\n",
       "    </tr>\n",
       "  </thead>\n",
       "  <tbody>\n",
       "    <tr>\n",
       "      <th>0</th>\n",
       "      <td>2017</td>\n",
       "      <td>JAN THRU MAR</td>\n",
       "      <td>NaN</td>\n",
       "      <td>ALABAMA</td>\n",
       "      <td>1</td>\n",
       "      <td>NaN</td>\n",
       "      <td>ADDED &amp; REPLACED</td>\n",
       "      <td>570</td>\n",
       "      <td>NaN</td>\n",
       "    </tr>\n",
       "    <tr>\n",
       "      <th>1</th>\n",
       "      <td>2017</td>\n",
       "      <td>JAN THRU MAR</td>\n",
       "      <td>NaN</td>\n",
       "      <td>ARIZONA</td>\n",
       "      <td>4</td>\n",
       "      <td>NaN</td>\n",
       "      <td>ADDED &amp; REPLACED</td>\n",
       "      <td>2900</td>\n",
       "      <td>NaN</td>\n",
       "    </tr>\n",
       "    <tr>\n",
       "      <th>2</th>\n",
       "      <td>2017</td>\n",
       "      <td>JAN THRU MAR</td>\n",
       "      <td>NaN</td>\n",
       "      <td>ARKANSAS</td>\n",
       "      <td>5</td>\n",
       "      <td>NaN</td>\n",
       "      <td>ADDED &amp; REPLACED</td>\n",
       "      <td>430</td>\n",
       "      <td>NaN</td>\n",
       "    </tr>\n",
       "    <tr>\n",
       "      <th>3</th>\n",
       "      <td>2017</td>\n",
       "      <td>JAN THRU MAR</td>\n",
       "      <td>NaN</td>\n",
       "      <td>CALIFORNIA</td>\n",
       "      <td>6</td>\n",
       "      <td>NaN</td>\n",
       "      <td>ADDED &amp; REPLACED</td>\n",
       "      <td>215000</td>\n",
       "      <td>NaN</td>\n",
       "    </tr>\n",
       "    <tr>\n",
       "      <th>4</th>\n",
       "      <td>2017</td>\n",
       "      <td>JAN THRU MAR</td>\n",
       "      <td>NaN</td>\n",
       "      <td>COLORADO</td>\n",
       "      <td>8</td>\n",
       "      <td>NaN</td>\n",
       "      <td>ADDED &amp; REPLACED</td>\n",
       "      <td>100</td>\n",
       "      <td>NaN</td>\n",
       "    </tr>\n",
       "    <tr>\n",
       "      <th>...</th>\n",
       "      <td>...</td>\n",
       "      <td>...</td>\n",
       "      <td>...</td>\n",
       "      <td>...</td>\n",
       "      <td>...</td>\n",
       "      <td>...</td>\n",
       "      <td>...</td>\n",
       "      <td>...</td>\n",
       "      <td>...</td>\n",
       "    </tr>\n",
       "    <tr>\n",
       "      <th>3391</th>\n",
       "      <td>1987</td>\n",
       "      <td>MARKETING YEAR</td>\n",
       "      <td>NaN</td>\n",
       "      <td>VIRGINIA</td>\n",
       "      <td>51</td>\n",
       "      <td>NaN</td>\n",
       "      <td>INVENTORY</td>\n",
       "      <td>25000</td>\n",
       "      <td>NaN</td>\n",
       "    </tr>\n",
       "    <tr>\n",
       "      <th>3392</th>\n",
       "      <td>1987</td>\n",
       "      <td>MARKETING YEAR</td>\n",
       "      <td>NaN</td>\n",
       "      <td>WASHINGTON</td>\n",
       "      <td>53</td>\n",
       "      <td>NaN</td>\n",
       "      <td>INVENTORY</td>\n",
       "      <td>75000</td>\n",
       "      <td>NaN</td>\n",
       "    </tr>\n",
       "    <tr>\n",
       "      <th>3393</th>\n",
       "      <td>1987</td>\n",
       "      <td>MARKETING YEAR</td>\n",
       "      <td>NaN</td>\n",
       "      <td>WEST VIRGINIA</td>\n",
       "      <td>54</td>\n",
       "      <td>NaN</td>\n",
       "      <td>INVENTORY</td>\n",
       "      <td>21000</td>\n",
       "      <td>NaN</td>\n",
       "    </tr>\n",
       "    <tr>\n",
       "      <th>3394</th>\n",
       "      <td>1987</td>\n",
       "      <td>MARKETING YEAR</td>\n",
       "      <td>NaN</td>\n",
       "      <td>WISCONSIN</td>\n",
       "      <td>55</td>\n",
       "      <td>NaN</td>\n",
       "      <td>INVENTORY</td>\n",
       "      <td>92000</td>\n",
       "      <td>NaN</td>\n",
       "    </tr>\n",
       "    <tr>\n",
       "      <th>3395</th>\n",
       "      <td>1987</td>\n",
       "      <td>MARKETING YEAR</td>\n",
       "      <td>NaN</td>\n",
       "      <td>WYOMING</td>\n",
       "      <td>56</td>\n",
       "      <td>NaN</td>\n",
       "      <td>INVENTORY</td>\n",
       "      <td>39000</td>\n",
       "      <td>NaN</td>\n",
       "    </tr>\n",
       "  </tbody>\n",
       "</table>\n",
       "<p>3396 rows × 9 columns</p>\n",
       "</div>"
      ],
      "text/plain": [
       "      year          period  week_ending          state  state_ansi  watershed  \\\n",
       "0     2017    JAN THRU MAR          NaN        ALABAMA           1        NaN   \n",
       "1     2017    JAN THRU MAR          NaN        ARIZONA           4        NaN   \n",
       "2     2017    JAN THRU MAR          NaN       ARKANSAS           5        NaN   \n",
       "3     2017    JAN THRU MAR          NaN     CALIFORNIA           6        NaN   \n",
       "4     2017    JAN THRU MAR          NaN       COLORADO           8        NaN   \n",
       "...    ...             ...          ...            ...         ...        ...   \n",
       "3391  1987  MARKETING YEAR          NaN       VIRGINIA          51        NaN   \n",
       "3392  1987  MARKETING YEAR          NaN     WASHINGTON          53        NaN   \n",
       "3393  1987  MARKETING YEAR          NaN  WEST VIRGINIA          54        NaN   \n",
       "3394  1987  MARKETING YEAR          NaN      WISCONSIN          55        NaN   \n",
       "3395  1987  MARKETING YEAR          NaN        WYOMING          56        NaN   \n",
       "\n",
       "             data_item   value  cv  \n",
       "0     ADDED & REPLACED     570 NaN  \n",
       "1     ADDED & REPLACED    2900 NaN  \n",
       "2     ADDED & REPLACED     430 NaN  \n",
       "3     ADDED & REPLACED  215000 NaN  \n",
       "4     ADDED & REPLACED     100 NaN  \n",
       "...                ...     ...  ..  \n",
       "3391         INVENTORY   25000 NaN  \n",
       "3392         INVENTORY   75000 NaN  \n",
       "3393         INVENTORY   21000 NaN  \n",
       "3394         INVENTORY   92000 NaN  \n",
       "3395         INVENTORY   39000 NaN  \n",
       "\n",
       "[3396 rows x 9 columns]"
      ]
     },
     "execution_count": 3,
     "metadata": {},
     "output_type": "execute_result"
    }
   ],
   "source": [
    "df"
   ]
  },
  {
   "cell_type": "markdown",
   "metadata": {},
   "source": [
    "The data shows different periods of time, some full year and some quarterly, and different data items. I'm just interested in taking the full inventory for each year, totalled for the whole USA:"
   ]
  },
  {
   "cell_type": "code",
   "execution_count": 4,
   "metadata": {},
   "outputs": [],
   "source": [
    "marketing_year=df[df['period']=='MARKETING YEAR']\n",
    "year_and_total = marketing_year.groupby('year').value.sum()"
   ]
  },
  {
   "cell_type": "markdown",
   "metadata": {},
   "source": [
    "The bokeh plot below opens a new HTML file that shows an interactive scatter plot with a linear trend line"
   ]
  },
  {
   "cell_type": "code",
   "execution_count": 5,
   "metadata": {},
   "outputs": [],
   "source": [
    "output_file(\"scatter.html\")\n",
    "f=figure(plot_width=800)\n",
    "\n",
    "x=year_and_total.index\n",
    "y=year_and_total.values/1000000\n",
    "\n",
    "cds = ColumnDataSource(data=dict(\n",
    "    x=x,\n",
    "    y=y,\n",
    "    total=year_and_total.values,\n",
    "    year=year_and_total.index\n",
    "))\n",
    "\n",
    "c1=f.circle(x='x',y='y',size=8,source=cds)\n",
    "l1=f.line(x='x',y='y',source=cds) \n",
    "\n",
    "f.title.text=\"Bee Colonies in the USA from 1987-2017\" \n",
    "f.xaxis.axis_label=\"Year\"\n",
    "f.yaxis.axis_label=\"Bee Colonies (Millions)\"\n",
    "f.xaxis.ticker = [y for y in year_and_total.index if y%2==1]\n",
    "\n",
    "hover = HoverTool(renderers=[c1,l1],tooltips=[(\"Year\",\"@year\"),(\"Total\", \"@total\")])\n",
    "f.add_tools(hover)\n",
    "\n",
    "par = np.polyfit(x, y, 1, full=True)\n",
    "slope=par[0][0]\n",
    "intercept=par[0][1]\n",
    "y_predicted = [slope*i + intercept  for i in x]\n",
    "f.line(x,y_predicted,color='red',legend='y='+str(round(slope,4))+'x+'+str(round(intercept,2)))\n",
    "\n",
    "show(f)"
   ]
  },
  {
   "cell_type": "code",
   "execution_count": 6,
   "metadata": {},
   "outputs": [
    {
     "name": "stdout",
     "output_type": "stream",
     "text": [
      "-0.023609274193548132\n",
      "49.982186290322055\n"
     ]
    }
   ],
   "source": [
    "print(slope)\n",
    "print(intercept)"
   ]
  },
  {
   "cell_type": "markdown",
   "metadata": {},
   "source": [
    "Using the generated slope and intercept to calculate future values:"
   ]
  },
  {
   "cell_type": "code",
   "execution_count": 7,
   "metadata": {},
   "outputs": [],
   "source": [
    "future_value = {}\n",
    "for i in range(2018, 2051):\n",
    "    future_value[i] = slope * i + intercept"
   ]
  },
  {
   "cell_type": "markdown",
   "metadata": {},
   "source": [
    "Using matplotlib, I've created another plot to show the declining trend in future years: "
   ]
  },
  {
   "cell_type": "code",
   "execution_count": 8,
   "metadata": {},
   "outputs": [
    {
     "data": {
      "text/plain": [
       "<Figure size 640x480 with 1 Axes>"
      ]
     },
     "metadata": {},
     "output_type": "display_data"
    },
    {
     "name": "stdout",
     "output_type": "stream",
     "text": [
      "Bee Colony Numbers (Millions) in 2050:  1.583\n"
     ]
    }
   ],
   "source": [
    "import matplotlib.pyplot as plt\n",
    "import scipy\n",
    "from scipy.optimize import curve_fit\n",
    "\n",
    "plt.plot(list(future_value.keys()), list(future_value.values()), 'o',)\n",
    "plt.show()\n",
    "print(\"Bee Colony Numbers (Millions) in 2050: \", round(future_value[2050], 3))"
   ]
  },
  {
   "cell_type": "markdown",
   "metadata": {},
   "source": [
    "Note: The algebraic models created don’t take into account the uptick in bee colony numbers seen in the year 2009 and onwards. Many of the initiatives proposed have been implemented by local governments and beekeepers in the USA, so the trend may continue upwards. Conversely, without the initiatives, the bee colony numbers may decrease by a level higher than what the function suggests. This is purely for education and speculative purposes only!\n",
    "\n",
    "# Other trendlines:\n",
    "I've created another plot showing a third degree polynomial fit on the data"
   ]
  },
  {
   "cell_type": "code",
   "execution_count": 9,
   "metadata": {},
   "outputs": [
    {
     "data": {
      "image/png": "[encoded data removed]",
      "text/plain": [
       "<Figure size 432x288 with 1 Axes>"
      ]
     },
     "metadata": {
      "needs_background": "light"
     },
     "output_type": "display_data"
    }
   ],
   "source": [
    "def func(x, a, b, c, d):\n",
    "    return a*x**3 + b*x**2 +c*x + d\n",
    "\n",
    "popt, pcov = curve_fit(func, x, y)\n",
    "plt.plot(x, func(x, *popt), label=\"Fitted Curve\") \n",
    "plt.plot(x, y, 'ro', label=\"Data\")\n",
    "plt.legend(loc='upper right')\n",
    "plt.show()"
   ]
  },
  {
   "cell_type": "code",
   "execution_count": 10,
   "metadata": {},
   "outputs": [
    {
     "name": "stderr",
     "output_type": "stream",
     "text": [
      "/Users/anita/anaconda3/lib/python3.7/site-packages/ipykernel_launcher.py:2: RuntimeWarning: invalid value encountered in log\n",
      "  \n"
     ]
    },
    {
     "data": {
      "image/png": "[encoded data removed]",
      "text/plain": [
       "<Figure size 432x288 with 1 Axes>"
      ]
     },
     "metadata": {
      "needs_background": "light"
     },
     "output_type": "display_data"
    }
   ],
   "source": [
    "def func(x, b, a=0.6, c=3.316):\n",
    "    return -a * (np.log(x - b)) + c\n",
    "\n",
    "popt, pcov = curve_fit(func, x, y)\n",
    "plt.plot(x, func(x, *popt), label=\"Fitted Curve\") \n",
    "plt.plot(x, y, 'ro', label=\"Data\")\n",
    "plt.legend(loc='upper right')\n",
    "plt.show()"
   ]
  },
  {
   "cell_type": "code",
   "execution_count": null,
   "metadata": {},
   "outputs": [],
   "source": []
  }
 ],
 "metadata": {
  "kernelspec": {
   "display_name": "Python 3",
   "language": "python",
   "name": "python3"
  },
  "language_info": {
   "codemirror_mode": {
    "name": "ipython",
    "version": 3
   },
   "file_extension": ".py",
   "mimetype": "text/x-python",
   "name": "python",
   "nbconvert_exporter": "python",
   "pygments_lexer": "ipython3",
   "version": "3.7.3"
  }
 },
 "nbformat": 4,
 "nbformat_minor": 2
}
